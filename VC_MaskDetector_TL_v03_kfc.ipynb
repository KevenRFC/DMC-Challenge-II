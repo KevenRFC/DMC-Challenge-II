{
  "nbformat": 4,
  "nbformat_minor": 0,
  "metadata": {
    "kernelspec": {
      "display_name": "Python 3",
      "language": "python",
      "name": "python3"
    },
    "language_info": {
      "codemirror_mode": {
        "name": "ipython",
        "version": 3
      },
      "file_extension": ".py",
      "mimetype": "text/x-python",
      "name": "python",
      "nbconvert_exporter": "python",
      "pygments_lexer": "ipython3",
      "version": "3.6.6"
    },
    "colab": {
      "name": "VC_MaskDetector_TL_v03_kfc.ipynb",
      "provenance": [],
      "collapsed_sections": [],
      "toc_visible": true,
      "include_colab_link": true
    },
    "accelerator": "GPU"
  },
  "cells": [
    {
      "cell_type": "markdown",
      "metadata": {
        "id": "view-in-github",
        "colab_type": "text"
      },
      "source": [
        "<a href=\"https://colab.research.google.com/github/KevenRFC/DMC-Challenge-II/blob/master/VC_MaskDetector_TL_v03_kfc.ipynb\" target=\"_parent\"><img src=\"https://colab.research.google.com/assets/colab-badge.svg\" alt=\"Open In Colab\"/></a>"
      ]
    },
    {
      "cell_type": "code",
      "metadata": {
        "id": "lM9q_ugNjzeX",
        "colab_type": "code",
        "colab": {}
      },
      "source": [
        "%matplotlib inline"
      ],
      "execution_count": 0,
      "outputs": []
    },
    {
      "cell_type": "markdown",
      "metadata": {
        "id": "emRvC9q5jzea",
        "colab_type": "text"
      },
      "source": [
        "These two major transfer learning scenarios look as follows:\n",
        "\n",
        "-  **Finetuning the convnet**: Instead of random initializaion, we\n",
        "   initialize the network with a pretrained network, like the one that is\n",
        "   trained on imagenet 1000 dataset. Rest of the training looks as\n",
        "   usual.\n",
        "-  **ConvNet as fixed feature extractor**: Here, we will freeze the weights\n",
        "   for all of the network except that of the final fully connected\n",
        "   layer. This last fully connected layer is replaced with a new one\n",
        "   with random weights and only this layer is trained.\n",
        "\n",
        "\n"
      ]
    },
    {
      "cell_type": "code",
      "metadata": {
        "id": "y8n92A1rjzeb",
        "colab_type": "code",
        "colab": {}
      },
      "source": [
        "# License: BSD\n",
        "# Author: Sasank Chilamkurthy\n",
        "\n",
        "from __future__ import print_function, division\n",
        "\n",
        "import torch\n",
        "import torch.nn as nn\n",
        "import torch.optim as optim\n",
        "from torch.optim import lr_scheduler\n",
        "import numpy as np\n",
        "import torchvision\n",
        "from torchvision import datasets, models, transforms\n",
        "import matplotlib.pyplot as plt\n",
        "import time\n",
        "import os\n",
        "import copy\n",
        "\n",
        "plt.ion()   # interactive mode"
      ],
      "execution_count": 0,
      "outputs": []
    },
    {
      "cell_type": "markdown",
      "metadata": {
        "id": "9cD1G0cwjzed",
        "colab_type": "text"
      },
      "source": [
        "Load Data\n",
        "---------\n"
      ]
    },
    {
      "cell_type": "code",
      "metadata": {
        "id": "ORqbN7QhOYHX",
        "colab_type": "code",
        "outputId": "9edded13-4f97-4ade-c3a2-2f58c3012444",
        "colab": {
          "base_uri": "https://localhost:8080/",
          "height": 34
        }
      },
      "source": [
        "from google.colab import drive\n",
        "drive.mount('/gdrive')"
      ],
      "execution_count": 3,
      "outputs": [
        {
          "output_type": "stream",
          "text": [
            "Drive already mounted at /gdrive; to attempt to forcibly remount, call drive.mount(\"/gdrive\", force_remount=True).\n"
          ],
          "name": "stdout"
        }
      ]
    },
    {
      "cell_type": "code",
      "metadata": {
        "id": "Ero3Bp2DOYGx",
        "colab_type": "code",
        "colab": {}
      },
      "source": [
        "path_root = '/gdrive/My Drive/Cursos Personales/DIPLOMADO IA-PUCP/2. Vision Artificial/Trabajo Final - Vision Computacional/dataset/'"
      ],
      "execution_count": 0,
      "outputs": []
    },
    {
      "cell_type": "markdown",
      "metadata": {
        "id": "kAKdJ3tT5oPp",
        "colab_type": "text"
      },
      "source": [
        "### Calculate the media and std of our dataset"
      ]
    },
    {
      "cell_type": "code",
      "metadata": {
        "id": "XGYlKSUN0bYC",
        "colab_type": "code",
        "colab": {
          "base_uri": "https://localhost:8080/",
          "height": 151
        },
        "outputId": "a7334eb9-9bfb-4a6a-e019-e12304f1526d"
      },
      "source": [
        "train_dataset = torchvision.datasets.ImageFolder(path_root+'train',\n",
        "                                                transform=transforms.Compose([\n",
        "                                                    transforms.RandomResizedCrop(224), #224x224\n",
        "                                                    transforms.ToTensor() # Convertir en un rango de 0-1\n",
        "                                                ]))\n",
        "\n",
        "print(train_dataset)"
      ],
      "execution_count": 5,
      "outputs": [
        {
          "output_type": "stream",
          "text": [
            "Dataset ImageFolder\n",
            "    Number of datapoints: 2206\n",
            "    Root location: /gdrive/My Drive/Cursos Personales/DIPLOMADO IA-PUCP/2. Vision Artificial/Trabajo Final - Vision Computacional/dataset/train\n",
            "    StandardTransform\n",
            "Transform: Compose(\n",
            "               RandomResizedCrop(size=(224, 224), scale=(0.08, 1.0), ratio=(0.75, 1.3333), interpolation=PIL.Image.BILINEAR)\n",
            "               ToTensor()\n",
            "           )\n"
          ],
          "name": "stdout"
        }
      ]
    },
    {
      "cell_type": "code",
      "metadata": {
        "id": "QQSGtfII2EAb",
        "colab_type": "code",
        "colab": {
          "base_uri": "https://localhost:8080/",
          "height": 84
        },
        "outputId": "a90a2ff8-66b0-4bec-a368-384373111859"
      },
      "source": [
        "%%time\n",
        "train_loader = torch.utils.data.DataLoader(train_dataset, batch_size=10, shuffle=False, num_workers=0)\n",
        "\n",
        "nimages = 0\n",
        "mean = 0.0\n",
        "var = 0.0\n",
        "for i_batch, batch_target in enumerate(train_loader):\n",
        "    batch = batch_target[0]\n",
        "    # Rearrange batch to be the shape of [B, C, W * H]\n",
        "    batch = batch.view(batch.size(0), batch.size(1), -1)\n",
        "    # Update total number of images\n",
        "    nimages += batch.size(0)\n",
        "    # Compute MEAN and VAR here\n",
        "    mean += batch.mean(2).sum(0) \n",
        "    var += batch.var(2).sum(0)\n",
        "\n",
        "mean /= nimages\n",
        "var /= nimages\n",
        "std = torch.sqrt(var)\n",
        "\n",
        "print(mean)\n",
        "print(std)"
      ],
      "execution_count": 6,
      "outputs": [
        {
          "output_type": "stream",
          "text": [
            "tensor([0.5729, 0.4799, 0.4408])\n",
            "tensor([0.2361, 0.2238, 0.2231])\n",
            "CPU times: user 8.1 s, sys: 397 ms, total: 8.49 s\n",
            "Wall time: 10.5 s\n"
          ],
          "name": "stdout"
        }
      ]
    },
    {
      "cell_type": "markdown",
      "metadata": {
        "id": "hww8bMns57KS",
        "colab_type": "text"
      },
      "source": [
        "tensor([0.5737, 0.4802, 0.4410])\n",
        "\n",
        "tensor([0.2369, 0.2243, 0.2235])\n",
        "\n",
        "CPU times: user 7.83 s, sys: 395 ms, total: 8.22 s\n",
        "\n",
        "Wall time: 10.2 s\n",
        "\n"
      ]
    },
    {
      "cell_type": "markdown",
      "metadata": {
        "id": "60l1OnMG50sT",
        "colab_type": "text"
      },
      "source": [
        "### Data augmentation and normalization for training"
      ]
    },
    {
      "cell_type": "code",
      "metadata": {
        "id": "Ptdt_LVtjzee",
        "colab_type": "code",
        "colab": {}
      },
      "source": [
        "# Just normalization for validation\n",
        "data_transforms = {\n",
        "    'train': transforms.Compose([\n",
        "        transforms.Resize(160), #transforms.RandomResizedCrop(160),\n",
        "        transforms.CenterCrop(160), #transforms.RandomHorizontalFlip(),\n",
        "        transforms.ToTensor(),\n",
        "        transforms.Normalize([0.5737, 0.4802, 0.4410],[0.2369, 0.2243, 0.2235]) #([0.485, 0.456, 0.406], [0.229, 0.224, 0.225])\n",
        "    ]),\n",
        "    'test': transforms.Compose([\n",
        "        transforms.Resize(160),\n",
        "        transforms.CenterCrop(160),\n",
        "        transforms.ToTensor(),\n",
        "        transforms.Normalize([0.5737, 0.4802, 0.4410],[0.2369, 0.2243, 0.2235]) #([0.485, 0.456, 0.406], [0.229, 0.224, 0.225])\n",
        "    ]),\n",
        "}\n",
        "\n",
        "data_dir = path_root\n",
        "\n",
        "image_datasets = {x: datasets.ImageFolder(os.path.join(data_dir, x),\n",
        "                                          data_transforms[x])\n",
        "                  for x in ['train', 'test']}\n",
        "\n",
        "dataloaders = {x: torch.utils.data.DataLoader(image_datasets[x], batch_size=4,\n",
        "                                             shuffle=True, num_workers=4)\n",
        "              for x in ['train', 'test']}\n",
        "\n",
        "dataset_sizes = {x: len(image_datasets[x]) for x in ['train', 'test']}\n",
        "\n",
        "class_names = image_datasets['train'].classes\n",
        "\n",
        "device = torch.device(\"cuda:0\" if torch.cuda.is_available() else \"cpu\")"
      ],
      "execution_count": 0,
      "outputs": []
    },
    {
      "cell_type": "code",
      "metadata": {
        "id": "VE0dgyeSmOXk",
        "colab_type": "code",
        "outputId": "c12bbc21-5c34-48b6-f2be-cb02d011dd2e",
        "colab": {
          "base_uri": "https://localhost:8080/",
          "height": 34
        }
      },
      "source": [
        "dataset_sizes"
      ],
      "execution_count": 8,
      "outputs": [
        {
          "output_type": "execute_result",
          "data": {
            "text/plain": [
              "{'test': 551, 'train': 2206}"
            ]
          },
          "metadata": {
            "tags": []
          },
          "execution_count": 8
        }
      ]
    },
    {
      "cell_type": "code",
      "metadata": {
        "id": "sBZtjajYNV_6",
        "colab_type": "code",
        "outputId": "8632ca19-bea2-4f2b-e8c8-325809db0e83",
        "colab": {
          "base_uri": "https://localhost:8080/",
          "height": 34
        }
      },
      "source": [
        "class_names"
      ],
      "execution_count": 9,
      "outputs": [
        {
          "output_type": "execute_result",
          "data": {
            "text/plain": [
              "['mask', 'nomask']"
            ]
          },
          "metadata": {
            "tags": []
          },
          "execution_count": 9
        }
      ]
    },
    {
      "cell_type": "markdown",
      "metadata": {
        "id": "rKTe6PiJjzeg",
        "colab_type": "text"
      },
      "source": [
        "Visualize a few images\n",
        "^^^^^^^^^^^^^^^^^^^^^^\n",
        "Let's visualize a few training images so as to understand the data\n",
        "augmentations.\n",
        "\n"
      ]
    },
    {
      "cell_type": "code",
      "metadata": {
        "id": "rlgp5dl7jzeg",
        "colab_type": "code",
        "outputId": "cbf1cfbe-f2b4-4609-b07c-ddef088b5676",
        "colab": {
          "base_uri": "https://localhost:8080/",
          "height": 148
        }
      },
      "source": [
        "def imshow(inp, title=None):\n",
        "    \"\"\"Imshow for Tensor.\"\"\"\n",
        "    inp = inp.numpy().transpose((1, 2, 0))\n",
        "    mean = np.array([0.485, 0.456, 0.406])\n",
        "    std = np.array([0.229, 0.224, 0.225])\n",
        "    inp = std * inp + mean\n",
        "    inp = np.clip(inp, 0, 1)\n",
        "    plt.imshow(inp)\n",
        "    if title is not None:\n",
        "        plt.title(title)\n",
        "    plt.pause(0.001)  # pause a bit so that plots are updated\n",
        "\n",
        "\n",
        "# Get a batch of training data\n",
        "inputs, classes = next(iter(dataloaders['train']))\n",
        "\n",
        "# Make a grid from batch\n",
        "out = torchvision.utils.make_grid(inputs)\n",
        "\n",
        "imshow(out, title=[class_names[x] for x in classes])"
      ],
      "execution_count": 10,
      "outputs": [
        {
          "output_type": "display_data",
          "data": {
            "image/png": "[encoded data removed]",
            "text/plain": [
              "<Figure size 432x288 with 1 Axes>"
            ]
          },
          "metadata": {
            "tags": [],
            "needs_background": "light"
          }
        }
      ]
    },
    {
      "cell_type": "markdown",
      "metadata": {
        "id": "PgTdFIiJjzei",
        "colab_type": "text"
      },
      "source": [
        "Training the model\n",
        "------------------\n",
        "\n",
        "Now, let's write a general function to train a model. Here, we will\n",
        "illustrate:\n",
        "\n",
        "-  Scheduling the learning rate\n",
        "-  Saving the best model\n",
        "\n",
        "In the following, parameter ``scheduler`` is an LR scheduler object from\n",
        "``torch.optim.lr_scheduler``.\n",
        "\n"
      ]
    },
    {
      "cell_type": "code",
      "metadata": {
        "id": "PaoWVBlnjzej",
        "colab_type": "code",
        "colab": {}
      },
      "source": [
        "def train_model(model, criterion, optimizer, scheduler, num_epochs=25):\n",
        "    since = time.time()\n",
        "\n",
        "    best_model_wts = copy.deepcopy(model.state_dict())\n",
        "    best_acc = 0.0\n",
        "    best_epoch = 0\n",
        "\n",
        "    for epoch in range(num_epochs):\n",
        "        print('Epoch {}/{}'.format(epoch, num_epochs - 1))\n",
        "        print('-' * 10)\n",
        "\n",
        "        # Each epoch has a training and validation phase\n",
        "        for phase in ['train', 'test']:\n",
        "            if phase == 'train':\n",
        "                scheduler.step()\n",
        "                model.train()  # Set model to training mode\n",
        "            else:\n",
        "                model.eval()   # Set model to evaluate mode\n",
        "\n",
        "            running_loss = 0.0\n",
        "            running_corrects = 0\n",
        "\n",
        "            # Iterate over data.\n",
        "            for inputs, labels in dataloaders[phase]:\n",
        "                inputs = inputs.to(device)\n",
        "                labels = labels.to(device)\n",
        "\n",
        "                # zero the parameter gradients\n",
        "                optimizer.zero_grad()\n",
        "\n",
        "                # forward\n",
        "                # track history if only in train\n",
        "                with torch.set_grad_enabled(phase == 'train'):\n",
        "                    outputs = model(inputs)\n",
        "                    _, preds = torch.max(outputs, 1)\n",
        "                    loss = criterion(outputs, labels)\n",
        "\n",
        "                    # backward + optimize only if in training phase\n",
        "                    if phase == 'train':\n",
        "                        loss.backward()\n",
        "                        optimizer.step()\n",
        "\n",
        "                # statistics\n",
        "                running_loss += loss.item() * inputs.size(0)\n",
        "                running_corrects += torch.sum(preds == labels.data)\n",
        "\n",
        "            epoch_loss = running_loss / dataset_sizes[phase]\n",
        "            epoch_acc = running_corrects.double() / dataset_sizes[phase]\n",
        "\n",
        "            print('{} Loss: {:.4f} Acc: {:.4f}'.format(phase, epoch_loss, epoch_acc))\n",
        "\n",
        "            # deep copy the model\n",
        "            if phase == 'test' and epoch_acc > best_acc:\n",
        "                best_epoch = epoch\n",
        "                best_acc = epoch_acc\n",
        "                best_model_wts = copy.deepcopy(model.state_dict())\n",
        "\n",
        "        print()\n",
        "\n",
        "    time_elapsed = time.time() - since\n",
        "    print('Training complete in {:.0f}m {:.0f}s'.format(time_elapsed // 60, time_elapsed % 60))\n",
        "    print('Best Epoch: {}'.format(best_epoch))\n",
        "    print('Best Test Acc: {:4f}'.format(best_acc))\n",
        "\n",
        "    # load best model weights\n",
        "    model.load_state_dict(best_model_wts)\n",
        "    return model"
      ],
      "execution_count": 0,
      "outputs": []
    },
    {
      "cell_type": "markdown",
      "metadata": {
        "id": "VpK0qik4jzel",
        "colab_type": "text"
      },
      "source": [
        "Visualizing the model predictions\n",
        "^^^^^^^^^^^^^^^^^^^^^^^^^^^^^^^^^\n",
        "\n",
        "Generic function to display predictions for a few images\n",
        "\n",
        "\n"
      ]
    },
    {
      "cell_type": "code",
      "metadata": {
        "id": "jQTtS-Bojzel",
        "colab_type": "code",
        "colab": {}
      },
      "source": [
        "def visualize_model(model, num_images=6):\n",
        "    was_training = model.training\n",
        "    model.eval()\n",
        "    images_so_far = 0\n",
        "    fig = plt.figure()\n",
        "\n",
        "    with torch.no_grad():\n",
        "        for i, (inputs, labels) in enumerate(dataloaders['test']):\n",
        "            inputs = inputs.to(device)\n",
        "            labels = labels.to(device)\n",
        "\n",
        "            outputs = model(inputs)\n",
        "            _, preds = torch.max(outputs, 1)\n",
        "\n",
        "            for j in range(inputs.size()[0]):\n",
        "                images_so_far += 1\n",
        "                ax = plt.subplot(num_images//2, 2, images_so_far)\n",
        "                ax.axis('off')\n",
        "                ax.set_title('predicted: {}'.format(class_names[preds[j]]))\n",
        "                imshow(inputs.cpu().data[j])\n",
        "\n",
        "                if images_so_far == num_images:\n",
        "                    model.train(mode=was_training)\n",
        "                    return\n",
        "        model.train(mode=was_training)"
      ],
      "execution_count": 0,
      "outputs": []
    },
    {
      "cell_type": "markdown",
      "metadata": {
        "id": "ctS-iWVrjzew",
        "colab_type": "text"
      },
      "source": [
        "ConvNet as fixed feature extractor\n",
        "----------------------------------\n",
        "\n",
        "Here, we need to freeze all the network except the final layer. We need\n",
        "to set ``requires_grad == False`` to freeze the parameters so that the\n",
        "gradients are not computed in ``backward()``.\n",
        "\n",
        "You can read more about this in the documentation\n",
        "`here <http://pytorch.org/docs/notes/autograd.html#excluding-subgraphs-from-backward>`__.\n",
        "\n",
        "\n"
      ]
    },
    {
      "cell_type": "code",
      "metadata": {
        "id": "V0sFwJtajzex",
        "colab_type": "code",
        "colab": {}
      },
      "source": [
        "model_conv = torchvision.models.resnet18(pretrained=True)\n",
        "for param in model_conv.parameters():\n",
        "    param.requires_grad = False\n",
        "\n",
        "# Parameters of newly constructed modules have requires_grad=True by default\n",
        "num_ftrs = model_conv.fc.in_features\n",
        "model_conv.fc = nn.Linear(num_ftrs, 2)\n",
        "\n",
        "model_conv = model_conv.to(device)\n",
        "\n",
        "criterion = nn.CrossEntropyLoss()\n",
        "\n",
        "# Observe that only parameters of final layer are being optimized as\n",
        "# opoosed to before.\n",
        "optimizer_conv = optim.SGD(model_conv.fc.parameters(), lr=0.001, momentum=0.5)\n",
        "#optimizer_conv = optim.Adam(model_conv.fc.parameters(), lr=0.001)\n",
        "\n",
        "# Decay LR by a factor of 0.1 every 7 epochs\n",
        "exp_lr_scheduler = lr_scheduler.StepLR(optimizer_conv, step_size=7, gamma=0.1)"
      ],
      "execution_count": 0,
      "outputs": []
    },
    {
      "cell_type": "markdown",
      "metadata": {
        "id": "Erfko217jze0",
        "colab_type": "text"
      },
      "source": [
        "**Train and evaluate**\n",
        "\n",
        "On CPU this will take about half the time compared to previous scenario.\n",
        "This is expected as gradients don't need to be computed for most of the\n",
        "network. However, forward does need to be computed.\n",
        "\n",
        "\n"
      ]
    },
    {
      "cell_type": "code",
      "metadata": {
        "id": "UP4qud7njze1",
        "colab_type": "code",
        "outputId": "d6a3ecd6-fea7-4a1d-c3f3-5327b14f250f",
        "colab": {
          "base_uri": "https://localhost:8080/",
          "height": 1000
        }
      },
      "source": [
        "best_model_conv_ffe = train_model(model_conv, criterion, optimizer_conv, exp_lr_scheduler, num_epochs=100)"
      ],
      "execution_count": 73,
      "outputs": [
        {
          "output_type": "stream",
          "text": [
            "Epoch 0/99\n",
            "----------\n"
          ],
          "name": "stdout"
        },
        {
          "output_type": "stream",
          "text": [
            "/usr/local/lib/python3.6/dist-packages/torch/optim/lr_scheduler.py:123: UserWarning: Detected call of `lr_scheduler.step()` before `optimizer.step()`. In PyTorch 1.1.0 and later, you should call them in the opposite order: `optimizer.step()` before `lr_scheduler.step()`.  Failure to do this will result in PyTorch skipping the first value of the learning rate schedule. See more details at https://pytorch.org/docs/stable/optim.html#how-to-adjust-learning-rate\n",
            "  \"https://pytorch.org/docs/stable/optim.html#how-to-adjust-learning-rate\", UserWarning)\n"
          ],
          "name": "stderr"
        },
        {
          "output_type": "stream",
          "text": [
            "train Loss: 0.3971 Acc: 0.8264\n",
            "test Loss: 0.1478 Acc: 0.9492\n",
            "\n",
            "Epoch 1/99\n",
            "----------\n",
            "train Loss: 0.3225 Acc: 0.8608\n",
            "test Loss: 0.1120 Acc: 0.9637\n",
            "\n",
            "Epoch 2/99\n",
            "----------\n",
            "train Loss: 0.3111 Acc: 0.8617\n",
            "test Loss: 0.1389 Acc: 0.9474\n",
            "\n",
            "Epoch 3/99\n",
            "----------\n",
            "train Loss: 0.2994 Acc: 0.8699\n",
            "test Loss: 0.0983 Acc: 0.9746\n",
            "\n",
            "Epoch 4/99\n",
            "----------\n",
            "train Loss: 0.3001 Acc: 0.8726\n",
            "test Loss: 0.0942 Acc: 0.9710\n",
            "\n",
            "Epoch 5/99\n",
            "----------\n",
            "train Loss: 0.2779 Acc: 0.8776\n",
            "test Loss: 0.1059 Acc: 0.9637\n",
            "\n",
            "Epoch 6/99\n",
            "----------\n",
            "train Loss: 0.2830 Acc: 0.8794\n",
            "test Loss: 0.0860 Acc: 0.9764\n",
            "\n",
            "Epoch 7/99\n",
            "----------\n",
            "train Loss: 0.2665 Acc: 0.8794\n",
            "test Loss: 0.0803 Acc: 0.9819\n",
            "\n",
            "Epoch 8/99\n",
            "----------\n",
            "train Loss: 0.2424 Acc: 0.9034\n",
            "test Loss: 0.1148 Acc: 0.9601\n",
            "\n",
            "Epoch 9/99\n",
            "----------\n",
            "train Loss: 0.2663 Acc: 0.8812\n",
            "test Loss: 0.0901 Acc: 0.9746\n",
            "\n",
            "Epoch 10/99\n",
            "----------\n",
            "train Loss: 0.2642 Acc: 0.8858\n",
            "test Loss: 0.0856 Acc: 0.9837\n",
            "\n",
            "Epoch 11/99\n",
            "----------\n",
            "train Loss: 0.2749 Acc: 0.8776\n",
            "test Loss: 0.0881 Acc: 0.9710\n",
            "\n",
            "Epoch 12/99\n",
            "----------\n",
            "train Loss: 0.2635 Acc: 0.8858\n",
            "test Loss: 0.0814 Acc: 0.9837\n",
            "\n",
            "Epoch 13/99\n",
            "----------\n",
            "train Loss: 0.2531 Acc: 0.8898\n",
            "test Loss: 0.0918 Acc: 0.9619\n",
            "\n",
            "Epoch 14/99\n",
            "----------\n",
            "train Loss: 0.2518 Acc: 0.8953\n",
            "test Loss: 0.0884 Acc: 0.9800\n",
            "\n",
            "Epoch 15/99\n",
            "----------\n",
            "train Loss: 0.2639 Acc: 0.8889\n",
            "test Loss: 0.0927 Acc: 0.9746\n",
            "\n",
            "Epoch 16/99\n",
            "----------\n",
            "train Loss: 0.2528 Acc: 0.8876\n",
            "test Loss: 0.0890 Acc: 0.9819\n",
            "\n",
            "Epoch 17/99\n",
            "----------\n",
            "train Loss: 0.2627 Acc: 0.8876\n",
            "test Loss: 0.0929 Acc: 0.9764\n",
            "\n",
            "Epoch 18/99\n",
            "----------\n",
            "train Loss: 0.2545 Acc: 0.8862\n",
            "test Loss: 0.1052 Acc: 0.9691\n",
            "\n",
            "Epoch 19/99\n",
            "----------\n",
            "train Loss: 0.2329 Acc: 0.9066\n",
            "test Loss: 0.0876 Acc: 0.9764\n",
            "\n",
            "Epoch 20/99\n",
            "----------\n",
            "train Loss: 0.2509 Acc: 0.8953\n",
            "test Loss: 0.0933 Acc: 0.9746\n",
            "\n",
            "Epoch 21/99\n",
            "----------\n",
            "train Loss: 0.2427 Acc: 0.9034\n",
            "test Loss: 0.1011 Acc: 0.9673\n",
            "\n",
            "Epoch 22/99\n",
            "----------\n",
            "train Loss: 0.2563 Acc: 0.8939\n",
            "test Loss: 0.1003 Acc: 0.9746\n",
            "\n",
            "Epoch 23/99\n",
            "----------\n",
            "train Loss: 0.2449 Acc: 0.8976\n",
            "test Loss: 0.0883 Acc: 0.9764\n",
            "\n",
            "Epoch 24/99\n",
            "----------\n",
            "train Loss: 0.2525 Acc: 0.8962\n",
            "test Loss: 0.0907 Acc: 0.9728\n",
            "\n",
            "Epoch 25/99\n",
            "----------\n",
            "train Loss: 0.2701 Acc: 0.8885\n",
            "test Loss: 0.0918 Acc: 0.9746\n",
            "\n",
            "Epoch 26/99\n",
            "----------\n",
            "train Loss: 0.2440 Acc: 0.8985\n",
            "test Loss: 0.1040 Acc: 0.9691\n",
            "\n",
            "Epoch 27/99\n",
            "----------\n",
            "train Loss: 0.2579 Acc: 0.8853\n",
            "test Loss: 0.0821 Acc: 0.9800\n",
            "\n",
            "Epoch 28/99\n",
            "----------\n",
            "train Loss: 0.2499 Acc: 0.8976\n",
            "test Loss: 0.0905 Acc: 0.9764\n",
            "\n",
            "Epoch 29/99\n",
            "----------\n",
            "train Loss: 0.2601 Acc: 0.8840\n",
            "test Loss: 0.0897 Acc: 0.9746\n",
            "\n",
            "Epoch 30/99\n",
            "----------\n",
            "train Loss: 0.2641 Acc: 0.8876\n",
            "test Loss: 0.0918 Acc: 0.9819\n",
            "\n",
            "Epoch 31/99\n",
            "----------\n",
            "train Loss: 0.2402 Acc: 0.9012\n",
            "test Loss: 0.1025 Acc: 0.9728\n",
            "\n",
            "Epoch 32/99\n",
            "----------\n",
            "train Loss: 0.2598 Acc: 0.8826\n",
            "test Loss: 0.0918 Acc: 0.9746\n",
            "\n",
            "Epoch 33/99\n",
            "----------\n",
            "train Loss: 0.2363 Acc: 0.8989\n",
            "train Loss: 0.2587 Acc: 0.8894\n",
            "test Loss: 0.0879 Acc: 0.9819\n",
            "\n",
            "Epoch 35/99\n",
            "----------\n",
            "train Loss: 0.2532 Acc: 0.8880\n",
            "test Loss: 0.0878 Acc: 0.9764\n",
            "\n",
            "Epoch 36/99\n",
            "----------\n",
            "train Loss: 0.2536 Acc: 0.8939\n",
            "test Loss: 0.0911 Acc: 0.9800\n",
            "\n",
            "Epoch 37/99\n",
            "----------\n",
            "train Loss: 0.2344 Acc: 0.9034\n",
            "test Loss: 0.1007 Acc: 0.9710\n",
            "\n",
            "Epoch 38/99\n",
            "----------\n",
            "train Loss: 0.2499 Acc: 0.8930\n",
            "test Loss: 0.0936 Acc: 0.9655\n",
            "\n",
            "Epoch 39/99\n",
            "----------\n",
            "train Loss: 0.2381 Acc: 0.9057\n",
            "test Loss: 0.0843 Acc: 0.9764\n",
            "\n",
            "Epoch 40/99\n",
            "----------\n",
            "train Loss: 0.2582 Acc: 0.8862\n",
            "test Loss: 0.0841 Acc: 0.9746\n",
            "\n",
            "Epoch 41/99\n",
            "----------\n",
            "train Loss: 0.2560 Acc: 0.8917\n",
            "test Loss: 0.0936 Acc: 0.9746\n",
            "\n",
            "Epoch 42/99\n",
            "----------\n",
            "train Loss: 0.2647 Acc: 0.8926\n",
            "test Loss: 0.0897 Acc: 0.9800\n",
            "\n",
            "Epoch 43/99\n",
            "----------\n",
            "train Loss: 0.2505 Acc: 0.8871\n",
            "test Loss: 0.0916 Acc: 0.9710\n",
            "\n",
            "Epoch 44/99\n",
            "----------\n",
            "train Loss: 0.2563 Acc: 0.8898\n",
            "test Loss: 0.1054 Acc: 0.9710\n",
            "\n",
            "Epoch 45/99\n",
            "----------\n",
            "train Loss: 0.2315 Acc: 0.9089\n",
            "test Loss: 0.0947 Acc: 0.9746\n",
            "\n",
            "Epoch 46/99\n",
            "----------\n",
            "train Loss: 0.2649 Acc: 0.8799\n",
            "test Loss: 0.0842 Acc: 0.9764\n",
            "\n",
            "Epoch 47/99\n",
            "----------\n",
            "train Loss: 0.2481 Acc: 0.8948\n",
            "test Loss: 0.0807 Acc: 0.9782\n",
            "\n",
            "Epoch 48/99\n",
            "----------\n",
            "train Loss: 0.2552 Acc: 0.8858\n",
            "test Loss: 0.0963 Acc: 0.9764\n",
            "\n",
            "Epoch 49/99\n",
            "----------\n",
            "train Loss: 0.2634 Acc: 0.8894\n",
            "test Loss: 0.0833 Acc: 0.9819\n",
            "\n",
            "Epoch 50/99\n",
            "----------\n",
            "train Loss: 0.2550 Acc: 0.8898\n",
            "test Loss: 0.0937 Acc: 0.9764\n",
            "\n",
            "Epoch 51/99\n",
            "----------\n",
            "train Loss: 0.2493 Acc: 0.8985\n",
            "test Loss: 0.0823 Acc: 0.9837\n",
            "\n",
            "Epoch 52/99\n",
            "----------\n",
            "train Loss: 0.2411 Acc: 0.8998\n",
            "test Loss: 0.0854 Acc: 0.9819\n",
            "\n",
            "Epoch 53/99\n",
            "----------\n",
            "train Loss: 0.2543 Acc: 0.8880\n",
            "test Loss: 0.1008 Acc: 0.9691\n",
            "\n",
            "Epoch 54/99\n",
            "----------\n",
            "train Loss: 0.2471 Acc: 0.8898\n",
            "test Loss: 0.1004 Acc: 0.9710\n",
            "\n",
            "Epoch 55/99\n",
            "----------\n",
            "train Loss: 0.2445 Acc: 0.9030\n",
            "test Loss: 0.0956 Acc: 0.9655\n",
            "\n",
            "Epoch 56/99\n",
            "----------\n",
            "train Loss: 0.2392 Acc: 0.8989\n",
            "test Loss: 0.0817 Acc: 0.9837\n",
            "\n",
            "Epoch 57/99\n",
            "----------\n",
            "train Loss: 0.2372 Acc: 0.9048\n",
            "test Loss: 0.0828 Acc: 0.9855\n",
            "\n",
            "Epoch 58/99\n",
            "----------\n",
            "train Loss: 0.2423 Acc: 0.9003\n",
            "test Loss: 0.0904 Acc: 0.9782\n",
            "\n",
            "Epoch 59/99\n",
            "----------\n",
            "train Loss: 0.2667 Acc: 0.8821\n",
            "test Loss: 0.0971 Acc: 0.9746\n",
            "\n",
            "Epoch 60/99\n",
            "----------\n",
            "train Loss: 0.2415 Acc: 0.8966\n",
            "test Loss: 0.0839 Acc: 0.9837\n",
            "\n",
            "Epoch 61/99\n",
            "----------\n",
            "train Loss: 0.2691 Acc: 0.8862\n",
            "test Loss: 0.0932 Acc: 0.9837\n",
            "\n",
            "Epoch 62/99\n",
            "----------\n",
            "train Loss: 0.2523 Acc: 0.8939\n",
            "test Loss: 0.0929 Acc: 0.9728\n",
            "\n",
            "Epoch 63/99\n",
            "----------\n",
            "train Loss: 0.2351 Acc: 0.8953\n",
            "test Loss: 0.0883 Acc: 0.9710\n",
            "\n",
            "Epoch 64/99\n",
            "----------\n",
            "train Loss: 0.2510 Acc: 0.9044\n",
            "test Loss: 0.1085 Acc: 0.9637\n",
            "\n",
            "Epoch 65/99\n",
            "----------\n",
            "train Loss: 0.2489 Acc: 0.8994\n",
            "test Loss: 0.0851 Acc: 0.9782\n",
            "\n",
            "Epoch 66/99\n",
            "----------\n",
            "train Loss: 0.2564 Acc: 0.8957\n",
            "test Loss: 0.0917 Acc: 0.9800\n",
            "\n",
            "Epoch 67/99\n",
            "----------\n",
            "train Loss: 0.2620 Acc: 0.8830\n",
            "test Loss: 0.0897 Acc: 0.9764\n",
            "\n",
            "Epoch 68/99\n",
            "----------\n",
            "train Loss: 0.2425 Acc: 0.8921\n",
            "test Loss: 0.0764 Acc: 0.9782\n",
            "\n",
            "Epoch 69/99\n",
            "----------\n",
            "train Loss: 0.2528 Acc: 0.8926\n",
            "test Loss: 0.1364 Acc: 0.9437\n",
            "\n",
            "Epoch 70/99\n",
            "----------\n",
            "train Loss: 0.2585 Acc: 0.8926\n",
            "test Loss: 0.0918 Acc: 0.9764\n",
            "\n",
            "Epoch 71/99\n",
            "----------\n",
            "train Loss: 0.2652 Acc: 0.8808\n",
            "test Loss: 0.0887 Acc: 0.9673\n",
            "\n",
            "Epoch 72/99\n",
            "----------\n",
            "train Loss: 0.2242 Acc: 0.9062\n",
            "test Loss: 0.0903 Acc: 0.9764\n",
            "\n",
            "Epoch 73/99\n",
            "----------\n",
            "train Loss: 0.2415 Acc: 0.8930\n",
            "test Loss: 0.0878 Acc: 0.9782\n",
            "\n",
            "Epoch 74/99\n",
            "----------\n",
            "train Loss: 0.2681 Acc: 0.8858\n",
            "test Loss: 0.0912 Acc: 0.9782\n",
            "\n",
            "Epoch 75/99\n",
            "----------\n",
            "train Loss: 0.2480 Acc: 0.8926\n",
            "test Loss: 0.0952 Acc: 0.9746\n",
            "\n",
            "Epoch 76/99\n",
            "----------\n",
            "train Loss: 0.2351 Acc: 0.9044\n",
            "test Loss: 0.0807 Acc: 0.9764\n",
            "\n",
            "Epoch 77/99\n",
            "----------\n",
            "train Loss: 0.2704 Acc: 0.8876\n",
            "test Loss: 0.0943 Acc: 0.9819\n",
            "\n",
            "Epoch 78/99\n",
            "----------\n",
            "train Loss: 0.2408 Acc: 0.8948\n",
            "test Loss: 0.0904 Acc: 0.9691\n",
            "\n",
            "Epoch 79/99\n",
            "----------\n",
            "train Loss: 0.2561 Acc: 0.8935\n",
            "test Loss: 0.0934 Acc: 0.9764\n",
            "\n",
            "Epoch 80/99\n",
            "----------\n",
            "train Loss: 0.2401 Acc: 0.8908\n",
            "test Loss: 0.0935 Acc: 0.9782\n",
            "\n",
            "Epoch 81/99\n",
            "----------\n",
            "train Loss: 0.2456 Acc: 0.8939\n",
            "test Loss: 0.0933 Acc: 0.9819\n",
            "\n",
            "Epoch 82/99\n",
            "----------\n",
            "train Loss: 0.2447 Acc: 0.8980\n",
            "test Loss: 0.0809 Acc: 0.9782\n",
            "\n",
            "Epoch 83/99\n",
            "----------\n",
            "train Loss: 0.2443 Acc: 0.9007\n",
            "test Loss: 0.0890 Acc: 0.9855\n",
            "\n",
            "Epoch 84/99\n",
            "----------\n",
            "train Loss: 0.2527 Acc: 0.8953\n",
            "test Loss: 0.0932 Acc: 0.9782\n",
            "\n",
            "Epoch 85/99\n",
            "----------\n",
            "train Loss: 0.2409 Acc: 0.9039\n",
            "test Loss: 0.1083 Acc: 0.9637\n",
            "\n",
            "Epoch 86/99\n",
            "----------\n",
            "train Loss: 0.2451 Acc: 0.8908\n",
            "test Loss: 0.0977 Acc: 0.9800\n",
            "\n",
            "Epoch 87/99\n",
            "----------\n",
            "train Loss: 0.2667 Acc: 0.8871\n",
            "test Loss: 0.0988 Acc: 0.9637\n",
            "\n",
            "Epoch 88/99\n",
            "----------\n",
            "train Loss: 0.2853 Acc: 0.8785\n",
            "test Loss: 0.0996 Acc: 0.9673\n",
            "\n",
            "Epoch 89/99\n",
            "----------\n",
            "train Loss: 0.2453 Acc: 0.8948\n",
            "test Loss: 0.0894 Acc: 0.9728\n",
            "\n",
            "Epoch 90/99\n",
            "----------\n",
            "train Loss: 0.2514 Acc: 0.8962\n",
            "test Loss: 0.1054 Acc: 0.9601\n",
            "\n",
            "Epoch 91/99\n",
            "----------\n",
            "train Loss: 0.2626 Acc: 0.8876\n",
            "test Loss: 0.0956 Acc: 0.9710\n",
            "\n",
            "Epoch 92/99\n",
            "----------\n",
            "train Loss: 0.2488 Acc: 0.8944\n",
            "test Loss: 0.0912 Acc: 0.9764\n",
            "\n",
            "Epoch 93/99\n",
            "----------\n",
            "train Loss: 0.2673 Acc: 0.8844\n",
            "test Loss: 0.0948 Acc: 0.9782\n",
            "\n",
            "Epoch 94/99\n",
            "----------\n",
            "train Loss: 0.2436 Acc: 0.9003\n",
            "test Loss: 0.0901 Acc: 0.9728\n",
            "\n",
            "Epoch 95/99\n",
            "----------\n",
            "train Loss: 0.2457 Acc: 0.9003\n",
            "test Loss: 0.0877 Acc: 0.9819\n",
            "\n",
            "Epoch 96/99\n",
            "----------\n",
            "train Loss: 0.2596 Acc: 0.8867\n",
            "test Loss: 0.0829 Acc: 0.9800\n",
            "\n",
            "Epoch 97/99\n",
            "----------\n",
            "train Loss: 0.2469 Acc: 0.8903\n",
            "test Loss: 0.0896 Acc: 0.9691\n",
            "\n",
            "Epoch 98/99\n",
            "----------\n",
            "train Loss: 0.2730 Acc: 0.8767\n",
            "test Loss: 0.1137 Acc: 0.9655\n",
            "\n",
            "Epoch 99/99\n",
            "----------\n",
            "train Loss: 0.2502 Acc: 0.8930\n",
            "test Loss: 0.0942 Acc: 0.9691\n",
            "\n",
            "Training complete in 14m 31s\n",
            "Best Epoch: 57\n",
            "Best Test Acc: 0.985481\n"
          ],
          "name": "stdout"
        }
      ]
    },
    {
      "cell_type": "code",
      "metadata": {
        "id": "SZJZknz9jze3",
        "colab_type": "code",
        "outputId": "89471795-20e2-4174-a512-f5b7d0579768",
        "colab": {
          "base_uri": "https://localhost:8080/",
          "height": 581
        }
      },
      "source": [
        "visualize_model(best_model_conv_ffe)\n",
        "\n",
        "plt.ioff()\n",
        "plt.show()"
      ],
      "execution_count": 74,
      "outputs": [
        {
          "output_type": "display_data",
          "data": {
            "image/png": "[encoded data removed]",
            "text/plain": [
              "<Figure size 432x288 with 1 Axes>"
            ]
          },
          "metadata": {
            "tags": [],
            "needs_background": "light"
          }
        },
        {
          "output_type": "display_data",
          "data": {
            "image/png": "[encoded data removed]",
            "text/plain": [
              "<Figure size 432x288 with 1 Axes>"
            ]
          },
          "metadata": {
            "tags": [],
            "needs_background": "light"
          }
        },
        {
          "output_type": "display_data",
          "data": {
            "image/png": "[encoded data removed]",
            "text/plain": [
              "<Figure size 432x288 with 1 Axes>"
            ]
          },
          "metadata": {
            "tags": [],
            "needs_background": "light"
          }
        },
        {
          "output_type": "display_data",
          "data": {
            "image/png": "[encoded data removed]",
            "text/plain": [
              "<Figure size 432x288 with 1 Axes>"
            ]
          },
          "metadata": {
            "tags": [],
            "needs_background": "light"
          }
        },
        {
          "output_type": "display_data",
          "data": {
            "image/png": "[encoded data removed]",
            "text/plain": [
              "<Figure size 432x288 with 1 Axes>"
            ]
          },
          "metadata": {
            "tags": [],
            "needs_background": "light"
          }
        },
        {
          "output_type": "display_data",
          "data": {
            "image/png": "[encoded data removed]",
            "text/plain": [
              "<Figure size 432x288 with 1 Axes>"
            ]
          },
          "metadata": {
            "tags": [],
            "needs_background": "light"
          }
        }
      ]
    },
    {
      "cell_type": "code",
      "metadata": {
        "id": "3v1hG_PdKEPI",
        "colab_type": "code",
        "colab": {}
      },
      "source": [
        "# Save Model\n",
        "PATH_SAVE = '/gdrive/My Drive/Cursos Personales/DIPLOMADO IA-PUCP/2. Vision Artificial/Trabajo Final - Vision Computacional/saved_models/'\n",
        "torch.save(best_model_conv_ffe, PATH_SAVE+'best_model_conv_ffe2.model')"
      ],
      "execution_count": 0,
      "outputs": []
    },
    {
      "cell_type": "code",
      "metadata": {
        "id": "Ek2GZuA9Mbn7",
        "colab_type": "code",
        "colab": {}
      },
      "source": [
        "# Load Model\n",
        "loaded_conv_ffe = torch.load(PATH_SAVE+'best_model_conv_ffe2.model')"
      ],
      "execution_count": 0,
      "outputs": []
    },
    {
      "cell_type": "code",
      "metadata": {
        "id": "5LbX2zLSM5Ql",
        "colab_type": "code",
        "colab": {}
      },
      "source": [
        "#loaded_conv_ffe.state_dict()"
      ],
      "execution_count": 0,
      "outputs": []
    },
    {
      "cell_type": "code",
      "metadata": {
        "id": "1lBcoJXgN94a",
        "colab_type": "code",
        "colab": {}
      },
      "source": [
        "# Iterate over data.\n",
        "def fx_evaluate_model(model, dataset):\n",
        "    running_loss = 0.0\n",
        "    running_corrects = 0\n",
        "    model.eval()\n",
        "    for inputs, labels in dataset:\n",
        "        with torch.set_grad_enabled(False):\n",
        "            inputs = inputs.to(device)\n",
        "            labels = labels.to(device)\n",
        "       \n",
        "            outputs = model(inputs)\n",
        "            _, preds = torch.max(outputs, 1)\n",
        "            loss = criterion(outputs, labels)\n",
        "\n",
        "            # statistics\n",
        "        running_loss += loss.item() * inputs.size(0)\n",
        "        running_corrects += torch.sum(preds == labels.data)\n",
        "\n",
        "    value_loss = running_loss / len(dataset.dataset)\n",
        "    value_acc = running_corrects.double() / len(dataset.dataset)\n",
        "\n",
        "    print('Loss: {:4f}'.format(value_loss))\n",
        "    print('Accuracy: {:4f}'.format(value_acc))"
      ],
      "execution_count": 0,
      "outputs": []
    },
    {
      "cell_type": "code",
      "metadata": {
        "id": "eq5HbYrmW-9-",
        "colab_type": "code",
        "colab": {
          "base_uri": "https://localhost:8080/",
          "height": 50
        },
        "outputId": "f363778b-3d9f-4ab1-df41-9482e1f05de3"
      },
      "source": [
        "fx_evaluate_model(model=best_model_conv_ffe, dataset=dataloaders['train'])"
      ],
      "execution_count": 79,
      "outputs": [
        {
          "output_type": "stream",
          "text": [
            "Loss: 0.089777\n",
            "Accuracy: 0.977788\n"
          ],
          "name": "stdout"
        }
      ]
    },
    {
      "cell_type": "code",
      "metadata": {
        "id": "-PoCGuqkPK3_",
        "colab_type": "code",
        "colab": {
          "base_uri": "https://localhost:8080/",
          "height": 50
        },
        "outputId": "809c0f61-b3dc-4990-8b0c-212dac333f92"
      },
      "source": [
        "fx_evaluate_model(model=best_model_conv_ffe, dataset=dataloaders['test'])"
      ],
      "execution_count": 80,
      "outputs": [
        {
          "output_type": "stream",
          "text": [
            "Loss: 0.082834\n",
            "Accuracy: 0.985481\n"
          ],
          "name": "stdout"
        }
      ]
    },
    {
      "cell_type": "code",
      "metadata": {
        "id": "OMFUv809aI5Z",
        "colab_type": "code",
        "colab": {
          "base_uri": "https://localhost:8080/",
          "height": 50
        },
        "outputId": "293b58d7-c40b-4f21-b1cc-07b19da270c7"
      },
      "source": [
        "fx_evaluate_model(model=loaded_conv_ffe, dataset=dataloaders['train'])"
      ],
      "execution_count": 81,
      "outputs": [
        {
          "output_type": "stream",
          "text": [
            "Loss: 0.089777\n",
            "Accuracy: 0.977788\n"
          ],
          "name": "stdout"
        }
      ]
    },
    {
      "cell_type": "code",
      "metadata": {
        "id": "RHvzVaBMaLVm",
        "colab_type": "code",
        "colab": {
          "base_uri": "https://localhost:8080/",
          "height": 50
        },
        "outputId": "d7fa719c-642f-475c-fbbe-257d901c5262"
      },
      "source": [
        "fx_evaluate_model(model=loaded_conv_ffe, dataset=dataloaders['test'])"
      ],
      "execution_count": 82,
      "outputs": [
        {
          "output_type": "stream",
          "text": [
            "Loss: 0.082834\n",
            "Accuracy: 0.985481\n"
          ],
          "name": "stdout"
        }
      ]
    },
    {
      "cell_type": "markdown",
      "metadata": {
        "id": "gwQFOibgjzeo",
        "colab_type": "text"
      },
      "source": [
        "Finetuning the convnet\n",
        "----------------------\n",
        "\n",
        "Load a pretrained model and reset final fully connected layer.\n",
        "\n",
        "\n"
      ]
    },
    {
      "cell_type": "code",
      "metadata": {
        "id": "FqAqqj5Jjzep",
        "colab_type": "code",
        "colab": {}
      },
      "source": [
        "model_ft = models.resnet18(pretrained=True)\n",
        "num_ftrs = model_ft.fc.in_features\n",
        "model_ft.fc = nn.Linear(num_ftrs, 2)\n",
        "\n",
        "model_ft = model_ft.to(device)\n",
        "\n",
        "criterion = nn.CrossEntropyLoss()\n",
        "\n",
        "# Observe that all parameters are being optimized\n",
        "optimizer_ft = optim.SGD(model_ft.parameters(), lr=0.001, momentum=0.9)\n",
        "\n",
        "# Decay LR by a factor of 0.1 every 7 epochs\n",
        "exp_lr_scheduler = lr_scheduler.StepLR(optimizer_ft, step_size=7, gamma=0.1)"
      ],
      "execution_count": 0,
      "outputs": []
    },
    {
      "cell_type": "markdown",
      "metadata": {
        "id": "4VlNlPSbjzer",
        "colab_type": "text"
      },
      "source": [
        "**Train and evaluate**\n",
        "\n"
      ]
    },
    {
      "cell_type": "code",
      "metadata": {
        "id": "K8fs64pRjzes",
        "colab_type": "code",
        "outputId": "2bdb3c11-cd50-4fd4-b7c0-35d17eaffd90",
        "colab": {
          "base_uri": "https://localhost:8080/",
          "height": 1000
        }
      },
      "source": [
        "%%time \n",
        "model_ft = train_model(model_ft, criterion, optimizer_ft, exp_lr_scheduler, num_epochs=100)"
      ],
      "execution_count": 84,
      "outputs": [
        {
          "output_type": "stream",
          "text": [
            "Epoch 0/99\n",
            "----------\n"
          ],
          "name": "stdout"
        },
        {
          "output_type": "stream",
          "text": [
            "/usr/local/lib/python3.6/dist-packages/torch/optim/lr_scheduler.py:123: UserWarning: Detected call of `lr_scheduler.step()` before `optimizer.step()`. In PyTorch 1.1.0 and later, you should call them in the opposite order: `optimizer.step()` before `lr_scheduler.step()`.  Failure to do this will result in PyTorch skipping the first value of the learning rate schedule. See more details at https://pytorch.org/docs/stable/optim.html#how-to-adjust-learning-rate\n",
            "  \"https://pytorch.org/docs/stable/optim.html#how-to-adjust-learning-rate\", UserWarning)\n"
          ],
          "name": "stderr"
        },
        {
          "output_type": "stream",
          "text": [
            "train Loss: 0.3330 Acc: 0.8876\n",
            "test Loss: 0.0324 Acc: 0.9891\n",
            "\n",
            "Epoch 1/99\n",
            "----------\n",
            "train Loss: 0.2526 Acc: 0.9139\n",
            "test Loss: 0.0164 Acc: 0.9964\n",
            "\n",
            "Epoch 2/99\n",
            "----------\n",
            "train Loss: 0.1797 Acc: 0.9483\n",
            "test Loss: 0.0191 Acc: 0.9982\n",
            "\n",
            "Epoch 3/99\n",
            "----------\n",
            "train Loss: 0.1124 Acc: 0.9646\n",
            "test Loss: 0.0102 Acc: 1.0000\n",
            "\n",
            "Epoch 4/99\n",
            "----------\n",
            "train Loss: 0.0386 Acc: 0.9905\n",
            "test Loss: 0.0058 Acc: 1.0000\n",
            "\n",
            "Epoch 5/99\n",
            "----------\n",
            "train Loss: 0.0250 Acc: 0.9941\n",
            "test Loss: 0.0133 Acc: 0.9946\n",
            "\n",
            "Epoch 6/99\n",
            "----------\n",
            "train Loss: 0.0182 Acc: 0.9968\n",
            "test Loss: 0.0101 Acc: 0.9982\n",
            "\n",
            "Epoch 7/99\n",
            "----------\n",
            "train Loss: 0.0097 Acc: 0.9991\n",
            "test Loss: 0.0071 Acc: 0.9982\n",
            "\n",
            "Epoch 8/99\n",
            "----------\n",
            "train Loss: 0.0085 Acc: 0.9991\n",
            "test Loss: 0.0101 Acc: 0.9982\n",
            "\n",
            "Epoch 9/99\n",
            "----------\n",
            "train Loss: 0.0079 Acc: 0.9986\n",
            "test Loss: 0.0084 Acc: 1.0000\n",
            "\n",
            "Epoch 10/99\n",
            "----------\n",
            "train Loss: 0.0105 Acc: 0.9977\n",
            "test Loss: 0.0105 Acc: 1.0000\n",
            "\n",
            "Epoch 11/99\n",
            "----------\n",
            "train Loss: 0.0083 Acc: 0.9982\n",
            "test Loss: 0.0079 Acc: 1.0000\n",
            "\n",
            "Epoch 12/99\n",
            "----------\n",
            "train Loss: 0.0057 Acc: 0.9995\n",
            "test Loss: 0.0055 Acc: 0.9982\n",
            "\n",
            "Epoch 13/99\n",
            "----------\n",
            "train Loss: 0.0050 Acc: 0.9995\n",
            "test Loss: 0.0051 Acc: 1.0000\n",
            "\n",
            "Epoch 14/99\n",
            "----------\n",
            "train Loss: 0.0072 Acc: 0.9991\n",
            "test Loss: 0.0056 Acc: 1.0000\n",
            "\n",
            "Epoch 15/99\n",
            "----------\n",
            "train Loss: 0.0063 Acc: 0.9991\n",
            "test Loss: 0.0067 Acc: 0.9982\n",
            "\n",
            "Epoch 16/99\n",
            "----------\n",
            "train Loss: 0.0076 Acc: 0.9991\n",
            "test Loss: 0.0052 Acc: 1.0000\n",
            "\n",
            "Epoch 17/99\n",
            "----------\n",
            "train Loss: 0.0052 Acc: 0.9991\n",
            "test Loss: 0.0066 Acc: 1.0000\n",
            "\n",
            "Epoch 18/99\n",
            "----------\n",
            "train Loss: 0.0068 Acc: 0.9986\n",
            "test Loss: 0.0082 Acc: 1.0000\n",
            "\n",
            "Epoch 19/99\n",
            "----------\n",
            "train Loss: 0.0059 Acc: 0.9991\n",
            "test Loss: 0.0064 Acc: 1.0000\n",
            "\n",
            "Epoch 20/99\n",
            "----------\n",
            "train Loss: 0.0055 Acc: 0.9991\n",
            "test Loss: 0.0046 Acc: 1.0000\n",
            "\n",
            "Epoch 21/99\n",
            "----------\n",
            "train Loss: 0.0063 Acc: 0.9991\n",
            "test Loss: 0.0058 Acc: 1.0000\n",
            "\n",
            "Epoch 22/99\n",
            "----------\n",
            "train Loss: 0.0061 Acc: 0.9991\n",
            "test Loss: 0.0047 Acc: 1.0000\n",
            "\n",
            "Epoch 23/99\n",
            "----------\n",
            "train Loss: 0.0056 Acc: 0.9991\n",
            "test Loss: 0.0073 Acc: 1.0000\n",
            "\n",
            "Epoch 24/99\n",
            "----------\n",
            "train Loss: 0.0046 Acc: 0.9995\n",
            "test Loss: 0.0062 Acc: 1.0000\n",
            "\n",
            "Epoch 25/99\n",
            "----------\n",
            "train Loss: 0.0064 Acc: 0.9991\n",
            "test Loss: 0.0067 Acc: 1.0000\n",
            "\n",
            "Epoch 26/99\n",
            "----------\n",
            "train Loss: 0.0051 Acc: 0.9995\n",
            "test Loss: 0.0055 Acc: 1.0000\n",
            "\n",
            "Epoch 27/99\n",
            "----------\n",
            "train Loss: 0.0059 Acc: 0.9995\n",
            "test Loss: 0.0058 Acc: 1.0000\n",
            "\n",
            "Epoch 28/99\n",
            "----------\n",
            "train Loss: 0.0067 Acc: 0.9986\n",
            "test Loss: 0.0065 Acc: 1.0000\n",
            "\n",
            "Epoch 29/99\n",
            "----------\n",
            "train Loss: 0.0052 Acc: 0.9991\n",
            "test Loss: 0.0062 Acc: 0.9982\n",
            "\n",
            "Epoch 30/99\n",
            "----------\n",
            "train Loss: 0.0045 Acc: 1.0000\n",
            "test Loss: 0.0054 Acc: 1.0000\n",
            "\n",
            "Epoch 31/99\n",
            "----------\n",
            "train Loss: 0.0055 Acc: 0.9991\n",
            "test Loss: 0.0070 Acc: 0.9982\n",
            "\n",
            "Epoch 32/99\n",
            "----------\n",
            "train Loss: 0.0069 Acc: 0.9991\n",
            "test Loss: 0.0060 Acc: 1.0000\n",
            "\n",
            "Epoch 33/99\n",
            "----------\n",
            "train Loss: 0.0061 Acc: 0.9991\n",
            "test Loss: 0.0059 Acc: 1.0000\n",
            "\n",
            "Epoch 34/99\n",
            "----------\n",
            "train Loss: 0.0044 Acc: 0.9995\n",
            "test Loss: 0.0072 Acc: 1.0000\n",
            "\n",
            "Epoch 35/99\n",
            "----------\n",
            "train Loss: 0.0064 Acc: 0.9986\n",
            "test Loss: 0.0062 Acc: 1.0000\n",
            "\n",
            "Epoch 36/99\n",
            "----------\n",
            "train Loss: 0.0056 Acc: 0.9991\n",
            "test Loss: 0.0056 Acc: 1.0000\n",
            "\n",
            "Epoch 37/99\n",
            "----------\n",
            "train Loss: 0.0048 Acc: 0.9995\n",
            "test Loss: 0.0074 Acc: 1.0000\n",
            "\n",
            "Epoch 38/99\n",
            "----------\n",
            "train Loss: 0.0056 Acc: 0.9995\n",
            "test Loss: 0.0068 Acc: 1.0000\n",
            "\n",
            "Epoch 39/99\n",
            "----------\n",
            "train Loss: 0.0074 Acc: 0.9991\n",
            "test Loss: 0.0051 Acc: 0.9982\n",
            "\n",
            "Epoch 40/99\n",
            "----------\n",
            "train Loss: 0.0041 Acc: 0.9995\n",
            "test Loss: 0.0053 Acc: 1.0000\n",
            "\n",
            "Epoch 41/99\n",
            "----------\n",
            "train Loss: 0.0053 Acc: 0.9991\n",
            "test Loss: 0.0049 Acc: 1.0000\n",
            "\n",
            "Epoch 42/99\n",
            "----------\n",
            "train Loss: 0.0064 Acc: 0.9986\n",
            "test Loss: 0.0062 Acc: 1.0000\n",
            "\n",
            "Epoch 43/99\n",
            "----------\n",
            "train Loss: 0.0060 Acc: 0.9991\n",
            "test Loss: 0.0060 Acc: 0.9982\n",
            "\n",
            "Epoch 44/99\n",
            "----------\n",
            "train Loss: 0.0054 Acc: 1.0000\n",
            "test Loss: 0.0065 Acc: 0.9982\n",
            "\n",
            "Epoch 45/99\n",
            "----------\n",
            "train Loss: 0.0063 Acc: 0.9991\n",
            "test Loss: 0.0068 Acc: 1.0000\n",
            "\n",
            "Epoch 46/99\n",
            "----------\n",
            "train Loss: 0.0078 Acc: 0.9986\n",
            "test Loss: 0.0057 Acc: 0.9982\n",
            "\n",
            "Epoch 47/99\n",
            "----------\n",
            "train Loss: 0.0088 Acc: 0.9986\n",
            "test Loss: 0.0056 Acc: 1.0000\n",
            "\n",
            "Epoch 48/99\n",
            "----------\n",
            "train Loss: 0.0049 Acc: 1.0000\n",
            "test Loss: 0.0053 Acc: 1.0000\n",
            "\n",
            "Epoch 49/99\n",
            "----------\n",
            "train Loss: 0.0048 Acc: 0.9995\n",
            "test Loss: 0.0049 Acc: 1.0000\n",
            "\n",
            "Epoch 50/99\n",
            "----------\n",
            "train Loss: 0.0058 Acc: 0.9986\n",
            "test Loss: 0.0067 Acc: 1.0000\n",
            "\n",
            "Epoch 51/99\n",
            "----------\n",
            "train Loss: 0.0059 Acc: 0.9995\n",
            "test Loss: 0.0050 Acc: 0.9982\n",
            "\n",
            "Epoch 52/99\n",
            "----------\n",
            "train Loss: 0.0058 Acc: 0.9986\n",
            "test Loss: 0.0052 Acc: 1.0000\n",
            "\n",
            "Epoch 53/99\n",
            "----------\n",
            "train Loss: 0.0068 Acc: 0.9991\n",
            "test Loss: 0.0055 Acc: 1.0000\n",
            "\n",
            "Epoch 54/99\n",
            "----------\n",
            "train Loss: 0.0072 Acc: 0.9986\n",
            "test Loss: 0.0083 Acc: 0.9982\n",
            "\n",
            "Epoch 55/99\n",
            "----------\n",
            "train Loss: 0.0058 Acc: 0.9991\n",
            "test Loss: 0.0055 Acc: 0.9982\n",
            "\n",
            "Epoch 56/99\n",
            "----------\n",
            "train Loss: 0.0056 Acc: 0.9995\n",
            "test Loss: 0.0064 Acc: 0.9982\n",
            "\n",
            "Epoch 57/99\n",
            "----------\n",
            "train Loss: 0.0056 Acc: 0.9995\n",
            "test Loss: 0.0062 Acc: 1.0000\n",
            "\n",
            "Epoch 58/99\n",
            "----------\n",
            "train Loss: 0.0057 Acc: 0.9995\n",
            "test Loss: 0.0066 Acc: 0.9982\n",
            "\n",
            "Epoch 59/99\n",
            "----------\n",
            "train Loss: 0.0048 Acc: 0.9991\n",
            "test Loss: 0.0068 Acc: 1.0000\n",
            "\n",
            "Epoch 60/99\n",
            "----------\n",
            "train Loss: 0.0067 Acc: 0.9995\n",
            "test Loss: 0.0058 Acc: 1.0000\n",
            "\n",
            "Epoch 61/99\n",
            "----------\n",
            "train Loss: 0.0052 Acc: 0.9991\n",
            "test Loss: 0.0059 Acc: 1.0000\n",
            "\n",
            "Epoch 62/99\n",
            "----------\n",
            "train Loss: 0.0060 Acc: 0.9991\n",
            "test Loss: 0.0077 Acc: 1.0000\n",
            "\n",
            "Epoch 63/99\n",
            "----------\n",
            "train Loss: 0.0043 Acc: 1.0000\n",
            "test Loss: 0.0057 Acc: 1.0000\n",
            "\n",
            "Epoch 64/99\n",
            "----------\n",
            "train Loss: 0.0057 Acc: 0.9991\n",
            "test Loss: 0.0051 Acc: 1.0000\n",
            "\n",
            "Epoch 65/99\n",
            "----------\n",
            "train Loss: 0.0046 Acc: 0.9995\n",
            "test Loss: 0.0052 Acc: 1.0000\n",
            "\n",
            "Epoch 66/99\n",
            "----------\n",
            "train Loss: 0.0053 Acc: 0.9995\n",
            "test Loss: 0.0057 Acc: 0.9982\n",
            "\n",
            "Epoch 67/99\n",
            "----------\n",
            "train Loss: 0.0063 Acc: 1.0000\n",
            "test Loss: 0.0054 Acc: 1.0000\n",
            "\n",
            "Epoch 68/99\n",
            "----------\n",
            "train Loss: 0.0055 Acc: 0.9991\n",
            "test Loss: 0.0076 Acc: 1.0000\n",
            "\n",
            "Epoch 69/99\n",
            "----------\n",
            "train Loss: 0.0051 Acc: 0.9991\n",
            "test Loss: 0.0055 Acc: 0.9982\n",
            "\n",
            "Epoch 70/99\n",
            "----------\n",
            "train Loss: 0.0057 Acc: 0.9995\n",
            "test Loss: 0.0071 Acc: 1.0000\n",
            "\n",
            "Epoch 71/99\n",
            "----------\n",
            "train Loss: 0.0045 Acc: 1.0000\n",
            "test Loss: 0.0072 Acc: 1.0000\n",
            "\n",
            "Epoch 72/99\n",
            "----------\n",
            "train Loss: 0.0065 Acc: 0.9991\n",
            "test Loss: 0.0055 Acc: 1.0000\n",
            "\n",
            "Epoch 73/99\n",
            "----------\n",
            "train Loss: 0.0063 Acc: 0.9986\n",
            "test Loss: 0.0072 Acc: 1.0000\n",
            "\n",
            "Epoch 74/99\n",
            "----------\n",
            "train Loss: 0.0061 Acc: 0.9986\n",
            "test Loss: 0.0057 Acc: 0.9982\n",
            "\n",
            "Epoch 75/99\n",
            "----------\n",
            "train Loss: 0.0052 Acc: 0.9995\n",
            "test Loss: 0.0058 Acc: 1.0000\n",
            "\n",
            "Epoch 76/99\n",
            "----------\n",
            "train Loss: 0.0040 Acc: 1.0000\n",
            "test Loss: 0.0081 Acc: 1.0000\n",
            "\n",
            "Epoch 77/99\n",
            "----------\n",
            "train Loss: 0.0078 Acc: 0.9986\n",
            "test Loss: 0.0076 Acc: 1.0000\n",
            "\n",
            "Epoch 78/99\n",
            "----------\n",
            "train Loss: 0.0063 Acc: 0.9991\n",
            "test Loss: 0.0065 Acc: 1.0000\n",
            "\n",
            "Epoch 79/99\n",
            "----------\n",
            "train Loss: 0.0058 Acc: 0.9991\n",
            "test Loss: 0.0057 Acc: 0.9982\n",
            "\n",
            "Epoch 80/99\n",
            "----------\n",
            "train Loss: 0.0060 Acc: 0.9995\n",
            "test Loss: 0.0078 Acc: 1.0000\n",
            "\n",
            "Epoch 81/99\n",
            "----------\n",
            "train Loss: 0.0101 Acc: 0.9968\n",
            "test Loss: 0.0068 Acc: 1.0000\n",
            "\n",
            "Epoch 82/99\n",
            "----------\n",
            "train Loss: 0.0076 Acc: 0.9991\n",
            "test Loss: 0.0056 Acc: 1.0000\n",
            "\n",
            "Epoch 83/99\n",
            "----------\n",
            "train Loss: 0.0068 Acc: 0.9991\n",
            "test Loss: 0.0069 Acc: 0.9982\n",
            "\n",
            "Epoch 84/99\n",
            "----------\n",
            "train Loss: 0.0056 Acc: 0.9995\n",
            "test Loss: 0.0072 Acc: 1.0000\n",
            "\n",
            "Epoch 85/99\n",
            "----------\n",
            "train Loss: 0.0056 Acc: 0.9991\n",
            "test Loss: 0.0057 Acc: 1.0000\n",
            "\n",
            "Epoch 86/99\n",
            "----------\n",
            "train Loss: 0.0052 Acc: 0.9995\n",
            "test Loss: 0.0057 Acc: 1.0000\n",
            "\n",
            "Epoch 87/99\n",
            "----------\n",
            "train Loss: 0.0057 Acc: 0.9991\n",
            "test Loss: 0.0064 Acc: 0.9982\n",
            "\n",
            "Epoch 88/99\n",
            "----------\n",
            "train Loss: 0.0065 Acc: 0.9986\n",
            "test Loss: 0.0062 Acc: 1.0000\n",
            "\n",
            "Epoch 89/99\n",
            "----------\n",
            "train Loss: 0.0052 Acc: 0.9995\n",
            "test Loss: 0.0064 Acc: 1.0000\n",
            "\n",
            "Epoch 90/99\n",
            "----------\n",
            "train Loss: 0.0053 Acc: 0.9991\n",
            "test Loss: 0.0064 Acc: 0.9982\n",
            "\n",
            "Epoch 91/99\n",
            "----------\n",
            "train Loss: 0.0070 Acc: 0.9986\n",
            "test Loss: 0.0053 Acc: 1.0000\n",
            "\n",
            "Epoch 92/99\n",
            "----------\n",
            "train Loss: 0.0058 Acc: 0.9991\n",
            "test Loss: 0.0052 Acc: 0.9982\n",
            "\n",
            "Epoch 93/99\n",
            "----------\n",
            "train Loss: 0.0057 Acc: 0.9995\n",
            "test Loss: 0.0059 Acc: 0.9982\n",
            "\n",
            "Epoch 94/99\n",
            "----------\n",
            "train Loss: 0.0050 Acc: 0.9995\n",
            "test Loss: 0.0060 Acc: 1.0000\n",
            "\n",
            "Epoch 95/99\n",
            "----------\n",
            "train Loss: 0.0053 Acc: 0.9991\n",
            "test Loss: 0.0068 Acc: 0.9982\n",
            "\n",
            "Epoch 96/99\n",
            "----------\n",
            "train Loss: 0.0051 Acc: 0.9991\n",
            "test Loss: 0.0062 Acc: 1.0000\n",
            "\n",
            "Epoch 97/99\n",
            "----------\n",
            "train Loss: 0.0080 Acc: 0.9973\n",
            "test Loss: 0.0057 Acc: 1.0000\n",
            "\n",
            "Epoch 98/99\n",
            "----------\n",
            "train Loss: 0.0062 Acc: 0.9995\n",
            "test Loss: 0.0065 Acc: 0.9982\n",
            "\n",
            "Epoch 99/99\n",
            "----------\n",
            "train Loss: 0.0047 Acc: 0.9995\n",
            "test Loss: 0.0059 Acc: 1.0000\n",
            "\n",
            "Training complete in 23m 26s\n",
            "Best Epoch: 3\n",
            "Best Test Acc: 1.000000\n",
            "CPU times: user 16min 47s, sys: 2min 24s, total: 19min 11s\n",
            "Wall time: 23min 26s\n"
          ],
          "name": "stdout"
        }
      ]
    },
    {
      "cell_type": "code",
      "metadata": {
        "id": "2D9DI-vGjzeu",
        "colab_type": "code",
        "outputId": "389e33a2-cc2d-40e4-d4cb-45f7bfdf971b",
        "colab": {
          "base_uri": "https://localhost:8080/",
          "height": 581
        }
      },
      "source": [
        "visualize_model(model_ft)"
      ],
      "execution_count": 85,
      "outputs": [
        {
          "output_type": "display_data",
          "data": {
            "image/png": "[encoded data removed]",
            "text/plain": [
              "<Figure size 432x288 with 1 Axes>"
            ]
          },
          "metadata": {
            "tags": [],
            "needs_background": "light"
          }
        },
        {
          "output_type": "display_data",
          "data": {
            "image/png": "[encoded data removed]",
            "text/plain": [
              "<Figure size 432x288 with 1 Axes>"
            ]
          },
          "metadata": {
            "tags": [],
            "needs_background": "light"
          }
        },
        {
          "output_type": "display_data",
          "data": {
            "image/png": "[encoded data removed]",
            "text/plain": [
              "<Figure size 432x288 with 1 Axes>"
            ]
          },
          "metadata": {
            "tags": [],
            "needs_background": "light"
          }
        },
        {
          "output_type": "display_data",
          "data": {
            "image/png": "[encoded data removed]",
            "text/plain": [
              "<Figure size 432x288 with 1 Axes>"
            ]
          },
          "metadata": {
            "tags": [],
            "needs_background": "light"
          }
        },
        {
          "output_type": "display_data",
          "data": {
            "image/png": "[encoded data removed]",
            "text/plain": [
              "<Figure size 432x288 with 1 Axes>"
            ]
          },
          "metadata": {
            "tags": [],
            "needs_background": "light"
          }
        },
        {
          "output_type": "display_data",
          "data": {
            "image/png": "[encoded data removed]",
            "text/plain": [
              "<Figure size 432x288 with 1 Axes>"
            ]
          },
          "metadata": {
            "tags": [],
            "needs_background": "light"
          }
        }
      ]
    },
    {
      "cell_type": "code",
      "metadata": {
        "id": "5I--XzcFwXOo",
        "colab_type": "code",
        "colab": {}
      },
      "source": [
        ""
      ],
      "execution_count": 0,
      "outputs": []
    },
    {
      "cell_type": "code",
      "metadata": {
        "colab_type": "code",
        "id": "Z2k6nVoOe-dW",
        "colab": {}
      },
      "source": [
        "# Save Model\n",
        "PATH_SAVE = '/gdrive/My Drive/Cursos Personales/DIPLOMADO IA-PUCP/2. Vision Artificial/Trabajo Final - Vision Computacional/saved_models/'\n",
        "torch.save(model_ft, PATH_SAVE+'best_model_conv_ft2.model')"
      ],
      "execution_count": 0,
      "outputs": []
    },
    {
      "cell_type": "code",
      "metadata": {
        "colab_type": "code",
        "outputId": "6052f395-f20f-479d-befb-23748ab55dbf",
        "id": "IEyV6DdEe-dZ",
        "colab": {
          "base_uri": "https://localhost:8080/",
          "height": 1000
        }
      },
      "source": [
        "# Load Model\n",
        "loaded_conv_ft = torch.load(PATH_SAVE+'best_model_conv_ft2.model')\n",
        "loaded_conv_ft.eval()"
      ],
      "execution_count": 87,
      "outputs": [
        {
          "output_type": "execute_result",
          "data": {
            "text/plain": [
              "ResNet(\n",
              "  (conv1): Conv2d(3, 64, kernel_size=(7, 7), stride=(2, 2), padding=(3, 3), bias=False)\n",
              "  (bn1): BatchNorm2d(64, eps=1e-05, momentum=0.1, affine=True, track_running_stats=True)\n",
              "  (relu): ReLU(inplace=True)\n",
              "  (maxpool): MaxPool2d(kernel_size=3, stride=2, padding=1, dilation=1, ceil_mode=False)\n",
              "  (layer1): Sequential(\n",
              "    (0): BasicBlock(\n",
              "      (conv1): Conv2d(64, 64, kernel_size=(3, 3), stride=(1, 1), padding=(1, 1), bias=False)\n",
              "      (bn1): BatchNorm2d(64, eps=1e-05, momentum=0.1, affine=True, track_running_stats=True)\n",
              "      (relu): ReLU(inplace=True)\n",
              "      (conv2): Conv2d(64, 64, kernel_size=(3, 3), stride=(1, 1), padding=(1, 1), bias=False)\n",
              "      (bn2): BatchNorm2d(64, eps=1e-05, momentum=0.1, affine=True, track_running_stats=True)\n",
              "    )\n",
              "    (1): BasicBlock(\n",
              "      (conv1): Conv2d(64, 64, kernel_size=(3, 3), stride=(1, 1), padding=(1, 1), bias=False)\n",
              "      (bn1): BatchNorm2d(64, eps=1e-05, momentum=0.1, affine=True, track_running_stats=True)\n",
              "      (relu): ReLU(inplace=True)\n",
              "      (conv2): Conv2d(64, 64, kernel_size=(3, 3), stride=(1, 1), padding=(1, 1), bias=False)\n",
              "      (bn2): BatchNorm2d(64, eps=1e-05, momentum=0.1, affine=True, track_running_stats=True)\n",
              "    )\n",
              "  )\n",
              "  (layer2): Sequential(\n",
              "    (0): BasicBlock(\n",
              "      (conv1): Conv2d(64, 128, kernel_size=(3, 3), stride=(2, 2), padding=(1, 1), bias=False)\n",
              "      (bn1): BatchNorm2d(128, eps=1e-05, momentum=0.1, affine=True, track_running_stats=True)\n",
              "      (relu): ReLU(inplace=True)\n",
              "      (conv2): Conv2d(128, 128, kernel_size=(3, 3), stride=(1, 1), padding=(1, 1), bias=False)\n",
              "      (bn2): BatchNorm2d(128, eps=1e-05, momentum=0.1, affine=True, track_running_stats=True)\n",
              "      (downsample): Sequential(\n",
              "        (0): Conv2d(64, 128, kernel_size=(1, 1), stride=(2, 2), bias=False)\n",
              "        (1): BatchNorm2d(128, eps=1e-05, momentum=0.1, affine=True, track_running_stats=True)\n",
              "      )\n",
              "    )\n",
              "    (1): BasicBlock(\n",
              "      (conv1): Conv2d(128, 128, kernel_size=(3, 3), stride=(1, 1), padding=(1, 1), bias=False)\n",
              "      (bn1): BatchNorm2d(128, eps=1e-05, momentum=0.1, affine=True, track_running_stats=True)\n",
              "      (relu): ReLU(inplace=True)\n",
              "      (conv2): Conv2d(128, 128, kernel_size=(3, 3), stride=(1, 1), padding=(1, 1), bias=False)\n",
              "      (bn2): BatchNorm2d(128, eps=1e-05, momentum=0.1, affine=True, track_running_stats=True)\n",
              "    )\n",
              "  )\n",
              "  (layer3): Sequential(\n",
              "    (0): BasicBlock(\n",
              "      (conv1): Conv2d(128, 256, kernel_size=(3, 3), stride=(2, 2), padding=(1, 1), bias=False)\n",
              "      (bn1): BatchNorm2d(256, eps=1e-05, momentum=0.1, affine=True, track_running_stats=True)\n",
              "      (relu): ReLU(inplace=True)\n",
              "      (conv2): Conv2d(256, 256, kernel_size=(3, 3), stride=(1, 1), padding=(1, 1), bias=False)\n",
              "      (bn2): BatchNorm2d(256, eps=1e-05, momentum=0.1, affine=True, track_running_stats=True)\n",
              "      (downsample): Sequential(\n",
              "        (0): Conv2d(128, 256, kernel_size=(1, 1), stride=(2, 2), bias=False)\n",
              "        (1): BatchNorm2d(256, eps=1e-05, momentum=0.1, affine=True, track_running_stats=True)\n",
              "      )\n",
              "    )\n",
              "    (1): BasicBlock(\n",
              "      (conv1): Conv2d(256, 256, kernel_size=(3, 3), stride=(1, 1), padding=(1, 1), bias=False)\n",
              "      (bn1): BatchNorm2d(256, eps=1e-05, momentum=0.1, affine=True, track_running_stats=True)\n",
              "      (relu): ReLU(inplace=True)\n",
              "      (conv2): Conv2d(256, 256, kernel_size=(3, 3), stride=(1, 1), padding=(1, 1), bias=False)\n",
              "      (bn2): BatchNorm2d(256, eps=1e-05, momentum=0.1, affine=True, track_running_stats=True)\n",
              "    )\n",
              "  )\n",
              "  (layer4): Sequential(\n",
              "    (0): BasicBlock(\n",
              "      (conv1): Conv2d(256, 512, kernel_size=(3, 3), stride=(2, 2), padding=(1, 1), bias=False)\n",
              "      (bn1): BatchNorm2d(512, eps=1e-05, momentum=0.1, affine=True, track_running_stats=True)\n",
              "      (relu): ReLU(inplace=True)\n",
              "      (conv2): Conv2d(512, 512, kernel_size=(3, 3), stride=(1, 1), padding=(1, 1), bias=False)\n",
              "      (bn2): BatchNorm2d(512, eps=1e-05, momentum=0.1, affine=True, track_running_stats=True)\n",
              "      (downsample): Sequential(\n",
              "        (0): Conv2d(256, 512, kernel_size=(1, 1), stride=(2, 2), bias=False)\n",
              "        (1): BatchNorm2d(512, eps=1e-05, momentum=0.1, affine=True, track_running_stats=True)\n",
              "      )\n",
              "    )\n",
              "    (1): BasicBlock(\n",
              "      (conv1): Conv2d(512, 512, kernel_size=(3, 3), stride=(1, 1), padding=(1, 1), bias=False)\n",
              "      (bn1): BatchNorm2d(512, eps=1e-05, momentum=0.1, affine=True, track_running_stats=True)\n",
              "      (relu): ReLU(inplace=True)\n",
              "      (conv2): Conv2d(512, 512, kernel_size=(3, 3), stride=(1, 1), padding=(1, 1), bias=False)\n",
              "      (bn2): BatchNorm2d(512, eps=1e-05, momentum=0.1, affine=True, track_running_stats=True)\n",
              "    )\n",
              "  )\n",
              "  (avgpool): AdaptiveAvgPool2d(output_size=(1, 1))\n",
              "  (fc): Linear(in_features=512, out_features=2, bias=True)\n",
              ")"
            ]
          },
          "metadata": {
            "tags": []
          },
          "execution_count": 87
        }
      ]
    },
    {
      "cell_type": "code",
      "metadata": {
        "colab_type": "code",
        "id": "MNY4GJCOe-dc",
        "colab": {}
      },
      "source": [
        "#loaded_conv_ffe.state_dict()"
      ],
      "execution_count": 0,
      "outputs": []
    },
    {
      "cell_type": "code",
      "metadata": {
        "colab_type": "code",
        "outputId": "cd11d067-6113-4d71-9e92-8e988d4901dc",
        "id": "yD3d0Ek9e-dh",
        "colab": {
          "base_uri": "https://localhost:8080/",
          "height": 50
        }
      },
      "source": [
        "fx_evaluate_model(model=model_ft, dataset=dataloaders['train'])"
      ],
      "execution_count": 89,
      "outputs": [
        {
          "output_type": "stream",
          "text": [
            "Loss: 0.007151\n",
            "Accuracy: 0.998640\n"
          ],
          "name": "stdout"
        }
      ]
    },
    {
      "cell_type": "markdown",
      "metadata": {
        "id": "UHBSztTR_EGf",
        "colab_type": "text"
      },
      "source": [
        "Loss: 0.110021\n",
        "Accuracy: 0.966908"
      ]
    },
    {
      "cell_type": "code",
      "metadata": {
        "colab_type": "code",
        "outputId": "a4e31113-f98d-4495-ea4f-05d17510f6a8",
        "id": "v8dywHKje-dj",
        "colab": {
          "base_uri": "https://localhost:8080/",
          "height": 50
        }
      },
      "source": [
        "fx_evaluate_model(model=model_ft, dataset=dataloaders['test'])"
      ],
      "execution_count": 90,
      "outputs": [
        {
          "output_type": "stream",
          "text": [
            "Loss: 0.010151\n",
            "Accuracy: 1.000000\n"
          ],
          "name": "stdout"
        }
      ]
    },
    {
      "cell_type": "markdown",
      "metadata": {
        "id": "HFXfjgRC_G1u",
        "colab_type": "text"
      },
      "source": [
        "Loss: 0.096071\n",
        "Accuracy: 0.974592"
      ]
    },
    {
      "cell_type": "code",
      "metadata": {
        "colab_type": "code",
        "outputId": "d8135725-11cd-4147-a3c7-5797f6d5a844",
        "id": "NYbOWTBSe-dm",
        "colab": {
          "base_uri": "https://localhost:8080/",
          "height": 50
        }
      },
      "source": [
        "fx_evaluate_model(model=loaded_conv_ft, dataset=dataloaders['train'])"
      ],
      "execution_count": 91,
      "outputs": [
        {
          "output_type": "stream",
          "text": [
            "Loss: 0.007151\n",
            "Accuracy: 0.998640\n"
          ],
          "name": "stdout"
        }
      ]
    },
    {
      "cell_type": "code",
      "metadata": {
        "colab_type": "code",
        "outputId": "0f57adbd-27d9-49b8-933d-c19b0e74cc42",
        "id": "E45zHTLye-dn",
        "colab": {
          "base_uri": "https://localhost:8080/",
          "height": 50
        }
      },
      "source": [
        "fx_evaluate_model(model=loaded_conv_ft, dataset=dataloaders['test'])"
      ],
      "execution_count": 92,
      "outputs": [
        {
          "output_type": "stream",
          "text": [
            "Loss: 0.010151\n",
            "Accuracy: 1.000000\n"
          ],
          "name": "stdout"
        }
      ]
    },
    {
      "cell_type": "code",
      "metadata": {
        "id": "pNU2VcaJfdNw",
        "colab_type": "code",
        "colab": {}
      },
      "source": [
        ""
      ],
      "execution_count": 0,
      "outputs": []
    }
  ]
}